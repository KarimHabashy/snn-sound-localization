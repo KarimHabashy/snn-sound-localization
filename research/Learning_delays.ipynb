{
 "cells": [
  {
   "cell_type": "markdown",
   "id": "YAW7y1InNQz1",
   "metadata": {
    "id": "YAW7y1InNQz1"
   },
   "source": [
    "# Learning delays v01\n",
    "\n",
    "I will start with the concept as shown in the below figure.\n",
    "<br/><br/>\n",
    "\n",
    "\n",
    "![](diagrams/learning_delays_v01_concept.png)"
   ]
  },
  {
   "cell_type": "markdown",
   "id": "UnQonswnyP22",
   "metadata": {
    "id": "UnQonswnyP22"
   },
   "source": [
    "Method A: the aim is to pad the output spikes with a tensor of zeros then apply a delay. This will shift the spikes as shown in the figure, then the data will be surronded by zeros from both sides. However, this method will lead to misalignment between different anfs as some fibers will have the zero pad while others data at the same time point, which is not the case we expect. A possible solution is to clib the data as shown in Method B. I think, this will solve the problem, but will use a larger duration_steps. \n",
    "\n",
    "A way to implement this is shown below in the code. I think, this is not the only way and there is a paper that implemented the delays differently with a dedicated module: https://arxiv.org/abs/2205.02115. I have removed Dan's comments (sorry Dan) and some analysis to just focus on the delays.\n",
    "\n",
    "\n",
    "Here is my thoughts on the topic if anyone is interested, if not, it is skippable :). I think, delays (given they have sufficient resolution) in their essence, and for the first layer, are a transformer from the time domain to the spatial domain. For a fixed duration_steps and after application of delays, all information is avilable in the first layer to do any computation on the information in this step. To learn far away concepts in the time domain, we either increase the max delays range in the first layer or apply a RNN.\n",
    "\n",
    "\n"
   ]
  },
  {
   "cell_type": "code",
   "execution_count": 63,
   "id": "ee3c91b7",
   "metadata": {
    "id": "ee3c91b7"
   },
   "outputs": [],
   "source": [
    "import os\n",
    "\n",
    "import numpy as np\n",
    "import matplotlib.pyplot as plt\n",
    "from matplotlib.gridspec import GridSpec\n",
    "\n",
    "import torch\n",
    "import torch.nn as nn\n",
    "import torch.nn.functional as F\n",
    "\n",
    "dtype = torch.float\n",
    "\n",
    "# Check whether a GPU is available\n",
    "if torch.cuda.is_available():\n",
    "    device = torch.device(\"cuda\")     \n",
    "else:\n",
    "    device = torch.device(\"cpu\")\n",
    "    \n",
    "my_computer_is_slow = True # set this to True if using Colab"
   ]
  },
  {
   "cell_type": "markdown",
   "id": "cG8QPdEaDFUb",
   "metadata": {
    "id": "cG8QPdEaDFUb"
   },
   "source": [
    "Comment #1 If we set the no_phase_delays flag to 'True', some how the network learns and the loss is reduced. It is not as good as with phase_delays. I just find it weird. I think, it might be good to decouple and the study the effects of weights and delays separately. "
   ]
  },
  {
   "cell_type": "code",
   "execution_count": 64,
   "id": "5bb26693",
   "metadata": {
    "id": "5bb26693"
   },
   "outputs": [],
   "source": [
    "# Not using Brian so we just use these constants to make equations look nicer below\n",
    "second = 1\n",
    "ms = 1e-3\n",
    "Hz = 1\n",
    "\n",
    "\"\"\"Delay paramters\"\"\"\n",
    "max_delay = 50*ms    # maximum allowed axonal delay during training\n",
    "trainable_delays, no_phase_delays = True, False\n",
    "num_ear = 2          # Who knows maybe there is an alien out there with more than 2 ears\n",
    "lr_delay = 1e-3      # Not fine tuned much, but improves performance on no_delays case\n",
    "\"\"\"\"\"\"\n",
    "\n",
    "# Stimulus and simulation parameters\n",
    "dt = 1*ms            # large time step to make simulations run faster for tutorial\n",
    "anf_per_ear = 100    # repeats of each ear with independent noise\n",
    "envelope_power = 2   # higher values make sharper envelopes, easier\n",
    "rate_max = 600*Hz   # maximum Poisson firing rate\n",
    "f = 20*Hz            # stimulus frequency\n",
    "duration = .1*second # stimulus duration\n",
    "duration_steps = int(np.round(duration/dt))\n",
    "input_size = 2*anf_per_ear\n",
    "\n",
    "# Generate an input signal (spike array) from array of true IPDs\n",
    "def input_signal(ipd):\n",
    "    num_samples = len(ipd)\n",
    "    T = np.arange(duration_steps)*dt # array of times\n",
    "    phi = 2*np.pi*(f*T+np.random.rand()) # array of phases corresponding to those times with random offset\n",
    "    # each point in the array will have a different phase based on which ear it is\n",
    "    # and its delay\n",
    "    theta = np.zeros((num_samples, duration_steps, 2*anf_per_ear))\n",
    "    # for each ear, we have anf_per_ear different phase delays from to pi/2 so\n",
    "    # that the differences between the two ears can cover the full range from -pi/2 to pi/2\n",
    "    \"\"\"Delay related update\"\"\"\n",
    "    if trainable_delays or no_phase_delays:\n",
    "        phase_delays = np.array([0]*anf_per_ear)\n",
    "    else:\n",
    "        phase_delays = np.linspace(0, np.pi/2, anf_per_ear)\n",
    "    \"\"\"\"\"\"\n",
    "    # now we set up these theta to implement that. Some numpy vectorisation logic here which looks a little weird,\n",
    "    # but implements the idea in the text above.\n",
    "    theta[:, :, :anf_per_ear] = phi[np.newaxis, :, np.newaxis]+phase_delays[np.newaxis, np.newaxis, :]\n",
    "    theta[:, :, anf_per_ear:] = phi[np.newaxis, :, np.newaxis]+phase_delays[np.newaxis, np.newaxis, :]+ipd[:, np.newaxis, np.newaxis]\n",
    "    # now generate Poisson spikes at the given firing rate as in the previous notebook\n",
    "    spikes = np.random.rand(num_samples, duration_steps, 2*anf_per_ear)<rate_max*dt*(0.5*(1+np.sin(theta)))**envelope_power\n",
    "    return spikes\n",
    "\n",
    "# Generate some true IPDs from U(-pi/2, pi/2) and corresponding spike arrays\n",
    "def random_ipd_input_signal(num_samples, tensor=True):\n",
    "    ipd = np.random.rand(num_samples)*np.pi-np.pi/2 # uniformly random in (-pi/2, pi/2)\n",
    "    spikes = input_signal(ipd)\n",
    "    if tensor:\n",
    "        ipd = torch.tensor(ipd, device=device, dtype=dtype)        \n",
    "        spikes = torch.tensor(spikes, device=device, dtype=dtype)\n",
    "    return ipd, spikes"
   ]
  },
  {
   "cell_type": "markdown",
   "id": "Z01IZeWmEZas",
   "metadata": {
    "id": "Z01IZeWmEZas"
   },
   "source": [
    "Comment #2 The main actors that made the differentiable delay possible are the 'F.affine_grid' and 'F.grid_sample' functions. They provided ways to shift the delays while keeping the input spike shape and content. These functions are used in spatial transformers. Togther, I think, they make a soft function by interpolating between the indices. Delays are index related and hence they are not differentiable, so these functions are one way of circumventing that."
   ]
  },
  {
   "cell_type": "code",
   "execution_count": 65,
   "id": "DmMYVBk43M2P",
   "metadata": {
    "id": "DmMYVBk43M2P"
   },
   "outputs": [],
   "source": [
    "\"\"\"Delay related functions\"\"\"\n",
    "\n",
    "# Delays with constant or random initialisation\n",
    "# Might think of other ways to initialize delays and their effect on performance\n",
    "def init_delay_vector(constant=True, constant_value=0):\n",
    "    if constant:\n",
    "        delays = torch.nn.parameter.Parameter\\\n",
    "            (torch.FloatTensor([constant_value*ms]*anf_per_ear*num_ear), requires_grad=True)\n",
    "    else:\n",
    "        delays_numpy = np.random.randint(dt/ms, high=int(max_delay/ms), size=int(anf_per_ear*num_ear), dtype=int)*ms\n",
    "        delays = torch.nn.parameter.Parameter(torch.FloatTensor(delays_numpy), requires_grad=True)\n",
    "    return delays\n",
    "\n",
    "delays_out = init_delay_vector(constant=False)\n",
    "\n",
    "def apply_delays(spikes_in, delays):\n",
    "    # Limiting applied delays to the range(0, max_delay)\n",
    "    delays = torch.clamp(delays, min=0, max=max_delay - ms) / ms\n",
    "    # Expand the dimenion as required by the functions\n",
    "    spikes_in = spikes_in[:, None, :, :]\n",
    "    spikes_size = spikes_in.size()\n",
    "    zero_pad = torch.zeros((spikes_size[0], spikes_size[1], int(max_delay/ms), spikes_size[3]))\n",
    "    # Applying the zero pad\n",
    "    spikes_in = torch.cat((zero_pad, spikes_in), 2)\n",
    "    spikes_in = torch.transpose(spikes_in, 0, 3)\n",
    "    spikes_size = spikes_in.size()\n",
    "    batch_size_in, height, width = spikes_size[0], spikes_size[2], spikes_size[3]\n",
    "    # Applying a transformation with only translation\n",
    "    affine_transformation = torch.zeros(batch_size_in, 2, 3)\n",
    "    affine_transformation[:, 0, 0] = 1\n",
    "    affine_transformation[:, 1, 1] = 1\n",
    "    affine_transformation[:, 1, 2] = (2/height)*delays  # This is very important: delays have to be whole numbers or they will alter the input spikes values and distribution.\n",
    "    grid = F.affine_grid(affine_transformation, (batch_size_in, 1, height, width), align_corners=False)\n",
    "    # Grid sampling to acquire the shifted spikes\n",
    "    spikes_out = F.grid_sample(spikes_in, grid, align_corners=False)\n",
    "    spikes_out = torch.transpose(spikes_out, 0, 3)\n",
    "    spikes_out = torch.squeeze(spikes_out)\n",
    "    return spikes_out"
   ]
  },
  {
   "cell_type": "code",
   "execution_count": 66,
   "id": "3f817078",
   "metadata": {
    "colab": {
     "base_uri": "https://localhost:8080/"
    },
    "id": "3f817078",
    "outputId": "b1ee88fa-ed06-4781-ace0-159ef4e16e01"
   },
   "outputs": [
    {
     "name": "stdout",
     "output_type": "stream",
     "text": [
      "Number of classes = 12\n"
     ]
    }
   ],
   "source": [
    "# classes at 15 degree increments\n",
    "num_classes = 180//15\n",
    "print(f'Number of classes = {num_classes}')\n",
    "\n",
    "def discretise(ipds):\n",
    "    return ((ipds+np.pi/2)*num_classes/np.pi).long() # assumes input is tensor\n",
    "\n",
    "def continuise(ipd_indices): # convert indices back to IPD midpoints\n",
    "    return (ipd_indices+0.5)/num_classes*np.pi-np.pi/2"
   ]
  },
  {
   "cell_type": "code",
   "execution_count": 67,
   "id": "7c7c60d9",
   "metadata": {
    "id": "7c7c60d9"
   },
   "outputs": [],
   "source": [
    "# Weights and uniform weight initialisation\n",
    "def init_weight_matrix():\n",
    "    # Note that the requires_grad=True argument tells PyTorch that we'll be computing gradients with\n",
    "    # respect to the values in this tensor and thereby learning those values. If you want PyTorch to\n",
    "    # learn some gradients, make sure it has this on.\n",
    "    W = nn.Parameter(torch.empty((input_size, num_classes), device=device, dtype=dtype, requires_grad=True))\n",
    "    fan_in, _ = nn.init._calculate_fan_in_and_fan_out(W)\n",
    "    bound = 1 / np.sqrt(fan_in)\n",
    "    nn.init.uniform_(W, -bound, bound)\n",
    "    return W"
   ]
  },
  {
   "cell_type": "code",
   "execution_count": 68,
   "id": "fc5fdc4f",
   "metadata": {
    "id": "fc5fdc4f"
   },
   "outputs": [],
   "source": [
    "# Parameters for training. These aren't optimal, but instead designed\n",
    "# to give a reasonable result in a small amount of time for the tutorial!\n",
    "if my_computer_is_slow:\n",
    "    batch_size = 64\n",
    "    n_training_batches = 64\n",
    "else:\n",
    "    batch_size = 128\n",
    "    n_training_batches = 128\n",
    "n_testing_batches = 32\n",
    "num_samples = batch_size*n_training_batches\n",
    "\n",
    "# Generator function iterates over the data in batches\n",
    "# We randomly permute the order of the data to improve learning\n",
    "def data_generator(ipds, spikes):\n",
    "    perm = torch.randperm(spikes.shape[0])\n",
    "    spikes = spikes[perm, :, :]\n",
    "    ipds = ipds[perm]\n",
    "    n, _, _ = spikes.shape\n",
    "    n_batch = n//batch_size\n",
    "    for i in range(n_batch):\n",
    "        x_local = spikes[i*batch_size:(i+1)*batch_size, :, :]\n",
    "        y_local = ipds[i*batch_size:(i+1)*batch_size]\n",
    "        yield x_local, y_local"
   ]
  },
  {
   "cell_type": "code",
   "execution_count": 69,
   "id": "e5fabc7b",
   "metadata": {
    "id": "e5fabc7b"
   },
   "outputs": [],
   "source": [
    "beta = 5\n",
    "\n",
    "class SurrGradSpike(torch.autograd.Function):\n",
    "    @staticmethod\n",
    "    def forward(ctx, input):\n",
    "        ctx.save_for_backward(input)\n",
    "        out = torch.zeros_like(input)\n",
    "        out[input > 0] = 1.0\n",
    "        return out\n",
    "    @staticmethod\n",
    "    def backward(ctx, grad_output):\n",
    "        input, = ctx.saved_tensors\n",
    "        # Original SPyTorch/SuperSpike gradient\n",
    "        # This seems to be a typo or error? But it works well\n",
    "        #grad = grad_output/(100*torch.abs(input)+1.0)**2\n",
    "        # Sigmoid\n",
    "        grad = grad_output*beta*torch.sigmoid(beta*input)*(1-torch.sigmoid(beta*input))\n",
    "        return grad\n",
    "\n",
    "spike_fn  = SurrGradSpike.apply"
   ]
  },
  {
   "cell_type": "code",
   "execution_count": 70,
   "id": "7b072bb5",
   "metadata": {
    "id": "7b072bb5"
   },
   "outputs": [],
   "source": [
    "num_hidden = 30\n",
    "\n",
    "# Weights and uniform weight initialisation\n",
    "def init_weight_matrices():\n",
    "    # Input to hidden layer\n",
    "    W1 = nn.Parameter(torch.empty((input_size, num_hidden), device=device, dtype=dtype, requires_grad=True))\n",
    "    fan_in, _ = nn.init._calculate_fan_in_and_fan_out(W)\n",
    "    bound = 1 / np.sqrt(fan_in)\n",
    "    nn.init.uniform_(W1, -bound, bound)\n",
    "    # Hidden layer to output\n",
    "    W2 = nn.Parameter(torch.empty((num_hidden, num_classes), device=device, dtype=dtype, requires_grad=True))\n",
    "    fan_in, _ = nn.init._calculate_fan_in_and_fan_out(W)\n",
    "    bound = 1 / np.sqrt(fan_in)\n",
    "    nn.init.uniform_(W2, -bound, bound)\n",
    "    return W1, W2\n",
    "\n",
    "# Run the simulation\n",
    "def snn(input_spikes, W1, W2, delays, tau=20*ms):\n",
    "    \"\"\"Delay related update\"\"\"\n",
    "    if trainable_delays:\n",
    "        input_spikes = apply_delays(input_spikes, delays)\n",
    "        duration_in = duration_steps + int(max_delay / ms)\n",
    "    else:\n",
    "        duration_in = duration_steps\n",
    "    \"\"\"\"\"\"\n",
    "    # First layer: input to hidden\n",
    "    v = torch.zeros((batch_size, num_hidden), device=device, dtype=dtype)\n",
    "    s = torch.zeros((batch_size, num_hidden), device=device, dtype=dtype)\n",
    "    s_rec = [s]\n",
    "    h = torch.einsum(\"abc,cd->abd\", (input_spikes, W1))\n",
    "    alpha = np.exp(-dt/tau)\n",
    "    \"\"\"Delay related update\"\"\"\n",
    "    for t in range(duration_in - 1):\n",
    "        new_v = (alpha*v + h[:, t, :])*(1-s) # multiply by 0 after a spike\n",
    "        s = spike_fn(v-1) # threshold of 1\n",
    "        v = new_v\n",
    "        s_rec.append(s)\n",
    "    s_rec = torch.stack(s_rec, dim=1)\n",
    "    # Second layer: hidden to output\n",
    "    v = torch.zeros((batch_size, num_classes), device=device, dtype=dtype)\n",
    "    s = torch.zeros((batch_size, num_classes), device=device, dtype=dtype)\n",
    "    v_rec = [v]\n",
    "    h = torch.einsum(\"abc,cd->abd\", (s_rec, W2))\n",
    "    alpha = np.exp(-dt/tau)\n",
    "    \"\"\"Delay related update\"\"\"\n",
    "    for t in range(duration_in - 1):\n",
    "        v = alpha*v + h[:, t, :]\n",
    "        v_rec.append(v)\n",
    "    v_rec = torch.stack(v_rec, dim=1)\n",
    "    # Return recorded membrane potential of output\n",
    "    return v_rec"
   ]
  },
  {
   "cell_type": "markdown",
   "id": "gfY2nQXjHeGi",
   "metadata": {
    "id": "gfY2nQXjHeGi"
   },
   "source": [
    "Comment #3 The next issue, after the differntiable delays, is the application of the gradients. The gradients need to be within a reasonable range (a fraction of the maximum delay) and a multiple of the dt (minimum delay). For this reason I used SGD with 0 parameters so that the update is: delays_new = delays_old + lr_delay*gradients. I think a dedicated optimizer might be needed to provide a robust and safe way to apply the gradients to ensure that the updated delays are always whole numbers. "
   ]
  },
  {
   "cell_type": "code",
   "execution_count": 71,
   "id": "a5d558df",
   "metadata": {
    "colab": {
     "base_uri": "https://localhost:8080/",
     "height": 488
    },
    "id": "a5d558df",
    "outputId": "885c455a-db05-4eb4-99b0-db71d5a86ded"
   },
   "outputs": [
    {
     "name": "stdout",
     "output_type": "stream",
     "text": [
      "Want loss for epoch 1 to be about 2.48, multiply m by constant to get this\n",
      "Epoch 1: loss=2.32046\n",
      "Epoch 2: loss=1.63760\n",
      "Epoch 3: loss=1.41692\n",
      "Epoch 4: loss=1.25174\n",
      "Epoch 5: loss=1.03296\n",
      "Epoch 6: loss=0.92214\n",
      "Epoch 7: loss=0.81613\n",
      "Epoch 8: loss=0.78015\n",
      "Epoch 9: loss=0.71864\n",
      "Epoch 10: loss=0.69677\n"
     ]
    },
    {
     "data": {
      "image/png": "[encoded data removed]",
      "text/plain": [
       "<Figure size 432x288 with 1 Axes>"
      ]
     },
     "metadata": {
      "needs_background": "light"
     },
     "output_type": "display_data"
    }
   ],
   "source": [
    "# Training parameters\n",
    "nb_epochs = 10 # quick, it won't have converged\n",
    "lr = 0.01 # learning rate\n",
    "\n",
    "# Generate the training data\n",
    "ipds, spikes = random_ipd_input_signal(num_samples)\n",
    "\n",
    "# Initialise a weight matrix\n",
    "W = init_weight_matrix()\n",
    "# Initialise a weight matrices\n",
    "W1, W2 = init_weight_matrices()\n",
    "\n",
    "# Optimiser and loss function\n",
    "optimizer = torch.optim.Adam([W1, W2], lr=lr)\n",
    "log_softmax_fn = nn.LogSoftmax(dim=1)\n",
    "loss_fn = nn.NLLLoss()\n",
    "\"\"\"Delay related update\"\"\"\n",
    "optimizer_delay = torch.optim.SGD([delays_out], lr=lr_delay, weight_decay=0, momentum=0)\n",
    "\n",
    "print(f\"Want loss for epoch 1 to be about {-np.log(1/num_classes):.2f}, multiply m by constant to get this\")\n",
    "\n",
    "loss_hist = []\n",
    "for e in range(nb_epochs):\n",
    "    local_loss = []\n",
    "    for x_local, y_local in data_generator(discretise(ipds), spikes):\n",
    "        # Run network\n",
    "        \"\"\"Delay related update\"\"\"\n",
    "        # Apply the delays only to the input spikes\n",
    "        output = snn(x_local, W1, W2, delays_out)\n",
    "        \"\"\"\"\"\"\n",
    "        # Compute cross entropy loss\n",
    "        m = torch.mean(output, 1)  # Mean across time dimension\n",
    "        loss = loss_fn(log_softmax_fn(m), y_local)\n",
    "        local_loss.append(loss.item())\n",
    "        # Update gradients\n",
    "        \"\"\"Delay related update\"\"\"\n",
    "        if trainable_delays:\n",
    "            optimizer.zero_grad()\n",
    "            optimizer_delay.zero_grad()\n",
    "            loss.backward()\n",
    "            #  This is a crucial part, controlling the applied gradients is important to ensure that the updated delays are whole numbers.\n",
    "            delays_out.grad = torch.round(delays_out.grad)  # Might need optimizing like applying a clip function\n",
    "            optimizer_delay.step()\n",
    "            optimizer.step()\n",
    "        else:\n",
    "            optimizer.zero_grad()\n",
    "            loss.backward()\n",
    "            optimizer.step()\n",
    "        \"\"\"\"\"\"\n",
    "\n",
    "    loss_hist.append(np.mean(local_loss))\n",
    "    print(\"Epoch %i: loss=%.5f\"%(e+1, np.mean(local_loss)))\n",
    "\n",
    "# Plot the loss function over time\n",
    "plt.plot(loss_hist)\n",
    "plt.xlabel('Epoch')\n",
    "plt.ylabel('Loss')\n",
    "plt.tight_layout()"
   ]
  },
  {
   "cell_type": "markdown",
   "id": "voVcUWqSIdH-",
   "metadata": {
    "id": "voVcUWqSIdH-"
   },
   "source": [
    "Comment #4: This is a protoype of what I think might work and needs more work. Here is a list of things I think can be done regarding the work here:\n",
    "1) Check the code works as intended\n",
    "2) Code optimization to facilitate learning\n",
    "3) Apply Method B: shift + clip\n",
    "4) A dedicated optimizer or a robust and general way to update the gradients to ensure that the updated delays are whole numbers. The gradients are discrete and should be in multiples of dt. \n",
    "5) Maybe a dedicated delays optimizer?\n",
    "6) Other methods?\n",
    "\n",
    "Finally, comments, suggestions and questions would be welcome and helpful. I am not an expert in this area so this might be slow. If anyone is any expert, I don't mind handing over."
   ]
  }
 ],
 "metadata": {
  "colab": {
   "collapsed_sections": [],
   "name": "Copy of Starting-Notebook.ipynb",
   "provenance": []
  },
  "kernelspec": {
   "display_name": "Python 3 (ipykernel)",
   "language": "python",
   "name": "python3"
  },
  "language_info": {
   "codemirror_mode": {
    "name": "ipython",
    "version": 3
   },
   "file_extension": ".py",
   "mimetype": "text/x-python",
   "name": "python",
   "nbconvert_exporter": "python",
   "pygments_lexer": "ipython3",
   "version": "3.10.4"
  },
  "toc": {
   "base_numbering": 1,
   "nav_menu": {},
   "number_sections": false,
   "sideBar": false,
   "skip_h1_title": true,
   "title_cell": "Table of Contents",
   "title_sidebar": "Contents",
   "toc_cell": false,
   "toc_position": {},
   "toc_section_display": true,
   "toc_window_display": false
  }
 },
 "nbformat": 4,
 "nbformat_minor": 5
}
